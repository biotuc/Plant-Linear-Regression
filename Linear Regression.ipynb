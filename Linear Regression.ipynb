{
 "cells": [
  {
   "cell_type": "markdown",
   "id": "89ff8340",
   "metadata": {},
   "source": [
    "# Predicting Plant Growth In Response to Nutrient X"
   ]
  },
  {
   "cell_type": "markdown",
   "id": "8ac4bd5b",
   "metadata": {},
   "source": [
    "## Purpose: To use a linear regression model to predict plant growth in response to a hypothetical \"nutrient x\"."
   ]
  },
  {
   "cell_type": "markdown",
   "id": "0c80ebe0",
   "metadata": {},
   "source": [
    "### Import Required Packages"
   ]
  },
  {
   "cell_type": "code",
   "execution_count": 18,
   "id": "39305a9f",
   "metadata": {},
   "outputs": [],
   "source": [
    "import pandas as pd\n",
    "import numpy as np\n",
    "import matplotlib.pyplot as plt\n",
    "from sklearn.linear_model import LinearRegression\n",
    "from sklearn.model_selection import train_test_split"
   ]
  },
  {
   "cell_type": "markdown",
   "id": "7107b3cd",
   "metadata": {},
   "source": [
    "### Importing the dataset"
   ]
  },
  {
   "cell_type": "code",
   "execution_count": 19,
   "id": "438ca836",
   "metadata": {
    "scrolled": true
   },
   "outputs": [
    {
     "data": {
      "text/html": [
       "<div>\n",
       "<style scoped>\n",
       "    .dataframe tbody tr th:only-of-type {\n",
       "        vertical-align: middle;\n",
       "    }\n",
       "\n",
       "    .dataframe tbody tr th {\n",
       "        vertical-align: top;\n",
       "    }\n",
       "\n",
       "    .dataframe thead th {\n",
       "        text-align: right;\n",
       "    }\n",
       "</style>\n",
       "<table border=\"1\" class=\"dataframe\">\n",
       "  <thead>\n",
       "    <tr style=\"text-align: right;\">\n",
       "      <th></th>\n",
       "      <th>Pot</th>\n",
       "      <th>Nutrient X (mg)</th>\n",
       "      <th>Plant Height (in)</th>\n",
       "    </tr>\n",
       "  </thead>\n",
       "  <tbody>\n",
       "    <tr>\n",
       "      <th>0</th>\n",
       "      <td>1</td>\n",
       "      <td>2.7</td>\n",
       "      <td>4.4</td>\n",
       "    </tr>\n",
       "    <tr>\n",
       "      <th>1</th>\n",
       "      <td>2</td>\n",
       "      <td>5.9</td>\n",
       "      <td>3.7</td>\n",
       "    </tr>\n",
       "    <tr>\n",
       "      <th>2</th>\n",
       "      <td>3</td>\n",
       "      <td>5.3</td>\n",
       "      <td>5.5</td>\n",
       "    </tr>\n",
       "    <tr>\n",
       "      <th>3</th>\n",
       "      <td>4</td>\n",
       "      <td>6.5</td>\n",
       "      <td>7.7</td>\n",
       "    </tr>\n",
       "    <tr>\n",
       "      <th>4</th>\n",
       "      <td>5</td>\n",
       "      <td>3.7</td>\n",
       "      <td>2.2</td>\n",
       "    </tr>\n",
       "    <tr>\n",
       "      <th>5</th>\n",
       "      <td>6</td>\n",
       "      <td>2.2</td>\n",
       "      <td>1.5</td>\n",
       "    </tr>\n",
       "    <tr>\n",
       "      <th>6</th>\n",
       "      <td>7</td>\n",
       "      <td>1.2</td>\n",
       "      <td>1.3</td>\n",
       "    </tr>\n",
       "    <tr>\n",
       "      <th>7</th>\n",
       "      <td>8</td>\n",
       "      <td>1.9</td>\n",
       "      <td>1.2</td>\n",
       "    </tr>\n",
       "    <tr>\n",
       "      <th>8</th>\n",
       "      <td>9</td>\n",
       "      <td>5.6</td>\n",
       "      <td>4.4</td>\n",
       "    </tr>\n",
       "    <tr>\n",
       "      <th>9</th>\n",
       "      <td>10</td>\n",
       "      <td>8.9</td>\n",
       "      <td>9.9</td>\n",
       "    </tr>\n",
       "    <tr>\n",
       "      <th>10</th>\n",
       "      <td>11</td>\n",
       "      <td>9.9</td>\n",
       "      <td>10.3</td>\n",
       "    </tr>\n",
       "    <tr>\n",
       "      <th>11</th>\n",
       "      <td>12</td>\n",
       "      <td>1.2</td>\n",
       "      <td>0.4</td>\n",
       "    </tr>\n",
       "    <tr>\n",
       "      <th>12</th>\n",
       "      <td>13</td>\n",
       "      <td>10.0</td>\n",
       "      <td>11.6</td>\n",
       "    </tr>\n",
       "    <tr>\n",
       "      <th>13</th>\n",
       "      <td>14</td>\n",
       "      <td>7.2</td>\n",
       "      <td>8.9</td>\n",
       "    </tr>\n",
       "    <tr>\n",
       "      <th>14</th>\n",
       "      <td>15</td>\n",
       "      <td>4.5</td>\n",
       "      <td>3.2</td>\n",
       "    </tr>\n",
       "    <tr>\n",
       "      <th>15</th>\n",
       "      <td>16</td>\n",
       "      <td>10.0</td>\n",
       "      <td>11.1</td>\n",
       "    </tr>\n",
       "    <tr>\n",
       "      <th>16</th>\n",
       "      <td>17</td>\n",
       "      <td>3.8</td>\n",
       "      <td>5.4</td>\n",
       "    </tr>\n",
       "    <tr>\n",
       "      <th>17</th>\n",
       "      <td>18</td>\n",
       "      <td>4.3</td>\n",
       "      <td>6.0</td>\n",
       "    </tr>\n",
       "    <tr>\n",
       "      <th>18</th>\n",
       "      <td>19</td>\n",
       "      <td>6.1</td>\n",
       "      <td>9.0</td>\n",
       "    </tr>\n",
       "    <tr>\n",
       "      <th>19</th>\n",
       "      <td>20</td>\n",
       "      <td>7.2</td>\n",
       "      <td>9.2</td>\n",
       "    </tr>\n",
       "    <tr>\n",
       "      <th>20</th>\n",
       "      <td>21</td>\n",
       "      <td>4.3</td>\n",
       "      <td>5.0</td>\n",
       "    </tr>\n",
       "    <tr>\n",
       "      <th>21</th>\n",
       "      <td>22</td>\n",
       "      <td>6.8</td>\n",
       "      <td>8.4</td>\n",
       "    </tr>\n",
       "  </tbody>\n",
       "</table>\n",
       "</div>"
      ],
      "text/plain": [
       "    Pot  Nutrient X (mg)  Plant Height (in)\n",
       "0     1              2.7                4.4\n",
       "1     2              5.9                3.7\n",
       "2     3              5.3                5.5\n",
       "3     4              6.5                7.7\n",
       "4     5              3.7                2.2\n",
       "5     6              2.2                1.5\n",
       "6     7              1.2                1.3\n",
       "7     8              1.9                1.2\n",
       "8     9              5.6                4.4\n",
       "9    10              8.9                9.9\n",
       "10   11              9.9               10.3\n",
       "11   12              1.2                0.4\n",
       "12   13             10.0               11.6\n",
       "13   14              7.2                8.9\n",
       "14   15              4.5                3.2\n",
       "15   16             10.0               11.1\n",
       "16   17              3.8                5.4\n",
       "17   18              4.3                6.0\n",
       "18   19              6.1                9.0\n",
       "19   20              7.2                9.2\n",
       "20   21              4.3                5.0\n",
       "21   22              6.8                8.4"
      ]
     },
     "execution_count": 19,
     "metadata": {},
     "output_type": "execute_result"
    }
   ],
   "source": [
    "df = pd.read_csv(\"NutrientX.csv\")\n",
    "df"
   ]
  },
  {
   "cell_type": "markdown",
   "id": "5ddea841",
   "metadata": {},
   "source": [
    "### Visualizing the Data"
   ]
  },
  {
   "cell_type": "code",
   "execution_count": 9,
   "id": "20fd0a3d",
   "metadata": {
    "scrolled": true
   },
   "outputs": [
    {
     "data": {
      "text/plain": [
       "<matplotlib.collections.PathCollection at 0x2018982c9a0>"
      ]
     },
     "execution_count": 9,
     "metadata": {},
     "output_type": "execute_result"
    },
    {
     "data": {
      "image/png": "[encoded data removed]",
      "text/plain": [
       "<Figure size 432x288 with 1 Axes>"
      ]
     },
     "metadata": {
      "needs_background": "light"
     },
     "output_type": "display_data"
    }
   ],
   "source": [
    "%matplotlib inline\n",
    "plt.title(\"Nutrient X's Impact on Plant Height\")\n",
    "plt.xlabel(\"Nutrient X (mg)\")\n",
    "plt.ylabel(\"Height (in)\")\n",
    "plt.scatter(df[\"Nutrient X (mg)\"], df[\"Plant Height (in)\"])"
   ]
  },
  {
   "cell_type": "markdown",
   "id": "381c5497",
   "metadata": {},
   "source": [
    "### Splitting the data for Supervised Learning"
   ]
  },
  {
   "cell_type": "code",
   "execution_count": 20,
   "id": "b776052a",
   "metadata": {},
   "outputs": [],
   "source": [
    "x_train, x_test, y_train, y_test = train_test_split(df[\"Nutrient X (mg)\"],df[\"Plant Height (in)\"])"
   ]
  },
  {
   "cell_type": "markdown",
   "id": "9b07e728",
   "metadata": {},
   "source": [
    "### Train/Test Split Data Visualization "
   ]
  },
  {
   "cell_type": "code",
   "execution_count": 24,
   "id": "088676b2",
   "metadata": {},
   "outputs": [
    {
     "data": {
      "image/png": "[encoded data removed]",
      "text/plain": [
       "<Figure size 432x288 with 1 Axes>"
      ]
     },
     "metadata": {
      "needs_background": "light"
     },
     "output_type": "display_data"
    }
   ],
   "source": [
    "plt.scatter(x_train, y_train, label = \"Training Data\", color = \"blue\")\n",
    "plt.scatter(x_test, y_test, label = \"Test Data\", color = \"red\")\n",
    "plt.legend()\n",
    "plt.title(\"Training vs Test Data Visualization\")"
   ]
  },
  {
   "cell_type": "markdown",
   "id": "7105a361",
   "metadata": {},
   "source": [
    "### Creating the Linear Model and Training It"
   ]
  },
  {
   "cell_type": "code",
   "execution_count": 31,
   "id": "6ef95db5",
   "metadata": {},
   "outputs": [
    {
     "data": {
      "text/plain": [
       "LinearRegression()"
      ]
     },
     "execution_count": 31,
     "metadata": {},
     "output_type": "execute_result"
    }
   ],
   "source": [
    "reg = LinearRegression()\n",
    "reg.fit(x_train.values.reshape(-1,1),y_train.values)"
   ]
  },
  {
   "cell_type": "markdown",
   "id": "7a46bf69",
   "metadata": {},
   "source": [
    "### Using the Model to Predict on Test Data"
   ]
  },
  {
   "cell_type": "code",
   "execution_count": 30,
   "id": "abd924ee",
   "metadata": {},
   "outputs": [
    {
     "data": {
      "text/plain": [
       "array([ 2.1627672 , 11.58765264,  0.9387561 , 11.71005375,  4.97799272,\n",
       "       10.36364154])"
      ]
     },
     "execution_count": 30,
     "metadata": {},
     "output_type": "execute_result"
    }
   ],
   "source": [
    "prediction = reg.predict(x_test.values.reshape(-1,1))"
   ]
  },
  {
   "cell_type": "markdown",
   "id": "670d109c",
   "metadata": {},
   "source": [
    "### Plotting the Prediction Line Against Test Data"
   ]
  },
  {
   "cell_type": "code",
   "execution_count": 32,
   "id": "cdbbd39e",
   "metadata": {},
   "outputs": [
    {
     "data": {
      "text/plain": [
       "<matplotlib.legend.Legend at 0x2018a0e3430>"
      ]
     },
     "execution_count": 32,
     "metadata": {},
     "output_type": "execute_result"
    },
    {
     "data": {
      "image/png": "[encoded data removed]",
      "text/plain": [
       "<Figure size 432x288 with 1 Axes>"
      ]
     },
     "metadata": {
      "needs_background": "light"
     },
     "output_type": "display_data"
    }
   ],
   "source": [
    "plt.plot(x_test, prediction, label = \"Linear Regression\", color = \"green\")\n",
    "plt.scatter(x_test, y_test, label = \"Actual Test Data\", color = \"red\")\n",
    "plt.legend()"
   ]
  },
  {
   "cell_type": "markdown",
   "id": "72939dab",
   "metadata": {},
   "source": [
    "### Using the Model to Predict Plant Height "
   ]
  },
  {
   "cell_type": "code",
   "execution_count": 37,
   "id": "06998dc0",
   "metadata": {},
   "outputs": [
    {
     "data": {
      "text/plain": [
       "5.589998266167984"
      ]
     },
     "execution_count": 37,
     "metadata": {},
     "output_type": "execute_result"
    }
   ],
   "source": [
    "reg.predict(np.array([[5]]))[0]"
   ]
  },
  {
   "cell_type": "markdown",
   "id": "878481e8",
   "metadata": {},
   "source": [
    "### Scoring the Model "
   ]
  },
  {
   "cell_type": "markdown",
   "id": "cda8bdc8",
   "metadata": {},
   "source": [
    "#### The closer the score is to 1, the more accurate "
   ]
  },
  {
   "cell_type": "code",
   "execution_count": 38,
   "id": "f344db35",
   "metadata": {},
   "outputs": [
    {
     "data": {
      "text/plain": [
       "0.9510362664047955"
      ]
     },
     "execution_count": 38,
     "metadata": {},
     "output_type": "execute_result"
    }
   ],
   "source": [
    "reg.score(x_test.values.reshape(-1,1),y_test.values)"
   ]
  }
 ],
 "metadata": {
  "kernelspec": {
   "display_name": "Python 3",
   "language": "python",
   "name": "python3"
  },
  "language_info": {
   "codemirror_mode": {
    "name": "ipython",
    "version": 3
   },
   "file_extension": ".py",
   "mimetype": "text/x-python",
   "name": "python",
   "nbconvert_exporter": "python",
   "pygments_lexer": "ipython3",
   "version": "3.8.8"
  }
 },
 "nbformat": 4,
 "nbformat_minor": 5
}
